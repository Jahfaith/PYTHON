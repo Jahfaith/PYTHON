{
 "cells": [
  {
   "cell_type": "code",
   "execution_count": 6,
   "metadata": {},
   "outputs": [
    {
     "name": "stdout",
     "output_type": "stream",
     "text": [
      "hello world\n"
     ]
    }
   ],
   "source": [
    "# 1.\n",
    "\n",
    "print('hello world')"
   ]
  },
  {
   "cell_type": "code",
   "execution_count": 8,
   "metadata": {},
   "outputs": [
    {
     "name": "stdout",
     "output_type": "stream",
     "text": [
      "Please enter your name:\n",
      "Jahfaith\n",
      "hello Jahfaith\n"
     ]
    }
   ],
   "source": [
    "# 2.\n",
    "\n",
    "name = input('Please enter your name:\\n')\n",
    "greeting = 'hello'\n",
    "\n",
    "print(greeting, name)"
   ]
  },
  {
   "cell_type": "code",
   "execution_count": 9,
   "metadata": {},
   "outputs": [
    {
     "name": "stdout",
     "output_type": "stream",
     "text": [
      "8\n"
     ]
    }
   ],
   "source": [
    "# 3.\n",
    "\n",
    "print(len(name))"
   ]
  },
  {
   "cell_type": "code",
   "execution_count": 10,
   "metadata": {},
   "outputs": [
    {
     "name": "stdout",
     "output_type": "stream",
     "text": [
      "LION\n",
      "lion\n"
     ]
    }
   ],
   "source": [
    "# 4.\n",
    "\n",
    "my_pet = 'lion'\n",
    "\n",
    "block = my_pet.upper()\n",
    "small = my_pet.lower()\n",
    "\n",
    "print(block)\n",
    "print(small)"
   ]
  },
  {
   "cell_type": "code",
   "execution_count": 11,
   "metadata": {},
   "outputs": [
    {
     "name": "stdout",
     "output_type": "stream",
     "text": [
      "Please enter your age:24\n",
      "Learning is a continous process, start learning!\n"
     ]
    }
   ],
   "source": [
    "# 5.\n",
    "\n",
    "inp = input('Please enter your age:')\n",
    "age = int(inp)\n",
    "if age < 12:\n",
    "    print('You are lucky to be here')\n",
    "elif 12 <= age <= 20:\n",
    "    print('Make good use of this opportunity')\n",
    "else:\n",
    "    print('Learning is a continous process, start learning!')"
   ]
  },
  {
   "cell_type": "code",
   "execution_count": 13,
   "metadata": {},
   "outputs": [
    {
     "name": "stdout",
     "output_type": "stream",
     "text": [
      "How many goals were scored?\n",
      ":7\n",
      "The football match was an unmissable game!\n"
     ]
    }
   ],
   "source": [
    "# 6.\n",
    "\n",
    "line = input('How many goals were scored?\\n:')\n",
    "goals = int(line)\n",
    "if goals < 1:\n",
    "    print('The game was a bore draw.')\n",
    "elif 0 < goals < 3:\n",
    "    print('Not the most interesting of games.')\n",
    "elif 2 < goals < 6:\n",
    "    print('It was a very interesting game')\n",
    "else:\n",
    "    print('The football match was an unmissable game!')"
   ]
  },
  {
   "cell_type": "code",
   "execution_count": 14,
   "metadata": {},
   "outputs": [
    {
     "name": "stdout",
     "output_type": "stream",
     "text": [
      "Enter a number:4\n",
      "The square of x is 16\n"
     ]
    }
   ],
   "source": [
    "# 7.\n",
    "\n",
    "x = int(input('Enter a number:'))\n",
    "if x > 0:\n",
    "    x = x**2\n",
    "    print('The square of x is', x)"
   ]
  },
  {
   "cell_type": "code",
   "execution_count": 15,
   "metadata": {},
   "outputs": [
    {
     "name": "stdout",
     "output_type": "stream",
     "text": [
      "Welcome to our calculator.\n",
      "Enter the first number:2\n",
      "Enter the second number:10\n",
      "Choose one of the following operations:\n",
      "1.addition\n",
      "2.subtraction\n",
      "3.multiplication\n",
      "4.division\n",
      "Pick an operation to perform\n",
      ":division\n",
      "0.2\n",
      "Thank yo for using our calculator.\n"
     ]
    }
   ],
   "source": [
    "# 8a.\n",
    "\n",
    "# Use print to show welcome.\n",
    "print('Welcome to our calculator.')\n",
    "\n",
    "# Create variables to request for first and second numbers (using input).\n",
    "# Request for specific data type by including the key for the data type (int -- for integer in this case) \n",
    "\n",
    "num1 = int(input('Enter the first number:'))\n",
    "num2 = int(input('Enter the second number:'))\n",
    "\n",
    "# Use print to show a list of operation options. \\n -- indicating a new line for each item.\n",
    "print('Choose one of the following operations:\\n1.addition\\n2.subtraction\\n3.multiplication\\n4.division')\n",
    "    \n",
    "# Define each operation, to enable easy calling subsequently.\n",
    "addition = num1 + num2\n",
    "subtraction = num1 - num2\n",
    "multiplication = num1 * num2\n",
    "division = num1 / num2\n",
    "    \n",
    "# Request for operation input, allowing the user to select operation to perform. \n",
    "operation = input('Pick an operation to perform\\n:')\n",
    "if operation == 'addition':\n",
    "    print(addition)\n",
    "if operation == 'subtraction':\n",
    "    print(subtraction)\n",
    "if operation == 'multiplication':\n",
    "    print(multiplication)\n",
    "if operation == 'division':\n",
    "    print(division)\n",
    "\n",
    "print('Thank yo for using our calculator.')"
   ]
  },
  {
   "cell_type": "code",
   "execution_count": 16,
   "metadata": {},
   "outputs": [
    {
     "name": "stdout",
     "output_type": "stream",
     "text": [
      "Welcome to our calculator.\n",
      "Enter the first number:23\n",
      "Enter the second number:17\n",
      "Choose one of the following operations:\n",
      "1.addition\n",
      "2.subtraction\n",
      "3.multiplication\n",
      "4.division\n",
      "Pick an operation to perform:addition\n",
      "40\n",
      "Enter the first number:5\n",
      "Enter the second number:3\n",
      "Choose one of the following operations:\n",
      "1.addition\n",
      "2.subtraction\n",
      "3.multiplication\n",
      "4.division\n",
      "Pick an operation to perform:multiplication\n",
      "15\n",
      "Enter the first number:6\n",
      "Enter the second number:2\n",
      "Choose one of the following operations:\n",
      "1.addition\n",
      "2.subtraction\n",
      "3.multiplication\n",
      "4.division\n",
      "Pick an operation to perform:division\n",
      "3.0\n",
      "Enter the first number:16\n",
      "Enter the second number:12\n",
      "Choose one of the following operations:\n",
      "1.addition\n",
      "2.subtraction\n",
      "3.multiplication\n",
      "4.division\n",
      "Pick an operation to perform:subtraction\n",
      "4\n",
      "Enter the first number:12\n",
      "Enter the second number:3\n",
      "Choose one of the following operations:\n",
      "1.addition\n",
      "2.subtraction\n",
      "3.multiplication\n",
      "4.division\n",
      "Pick an operation to perform:done\n",
      "Enter the first number:done\n"
     ]
    },
    {
     "ename": "ValueError",
     "evalue": "invalid literal for int() with base 10: 'done'",
     "output_type": "error",
     "traceback": [
      "\u001b[1;31m---------------------------------------------------------------------------\u001b[0m",
      "\u001b[1;31mValueError\u001b[0m                                Traceback (most recent call last)",
      "\u001b[1;32m<ipython-input-16-bd10d8c38d0f>\u001b[0m in \u001b[0;36m<module>\u001b[1;34m()\u001b[0m\n\u001b[0;32m      8\u001b[0m \u001b[1;33m\u001b[0m\u001b[0m\n\u001b[0;32m      9\u001b[0m     \u001b[1;31m# Create a variable to request numbers, using 'int' before 'input'.\u001b[0m\u001b[1;33m\u001b[0m\u001b[1;33m\u001b[0m\u001b[0m\n\u001b[1;32m---> 10\u001b[1;33m     \u001b[0mnum1\u001b[0m \u001b[1;33m=\u001b[0m \u001b[0mint\u001b[0m\u001b[1;33m(\u001b[0m\u001b[0minput\u001b[0m\u001b[1;33m(\u001b[0m\u001b[1;34m'Enter the first number:'\u001b[0m\u001b[1;33m)\u001b[0m\u001b[1;33m)\u001b[0m\u001b[1;33m\u001b[0m\u001b[0m\n\u001b[0m\u001b[0;32m     11\u001b[0m     \u001b[0mnum2\u001b[0m \u001b[1;33m=\u001b[0m \u001b[0mint\u001b[0m\u001b[1;33m(\u001b[0m\u001b[0minput\u001b[0m\u001b[1;33m(\u001b[0m\u001b[1;34m'Enter the second number:'\u001b[0m\u001b[1;33m)\u001b[0m\u001b[1;33m)\u001b[0m\u001b[1;33m\u001b[0m\u001b[0m\n\u001b[0;32m     12\u001b[0m \u001b[1;33m\u001b[0m\u001b[0m\n",
      "\u001b[1;31mValueError\u001b[0m: invalid literal for int() with base 10: 'done'"
     ]
    }
   ],
   "source": [
    "# 8b. Using while loop to repeat the process.\n",
    "\n",
    "# Use print to show the welcome statement.\n",
    "print('Welcome to our calculator.')\n",
    "\n",
    "# Initiate while loop (using while True) to repeat the process as long as the conditions are met( i.e as long as the conditions are true).\n",
    "while True:\n",
    "    \n",
    "    # Create a variable to request numbers, using 'int' before 'input'.\n",
    "    num1 = int(input('Enter the first number:'))\n",
    "    num2 = int(input('Enter the second number:'))\n",
    "    \n",
    "    # Show the operations to choose from, using 'print'.\n",
    "    print('Choose one of the following operations:\\n1.addition\\n2.subtraction\\n3.multiplication\\n4.division')\n",
    "    \n",
    "    # Define each operation so that it can be called later in the program.\n",
    "    addition = num1 + num2\n",
    "    subtraction = num1 - num2\n",
    "    multiplication = num1 * num2\n",
    "    division = num1 / num2\n",
    "    \n",
    "    # Request an operation to be performed, assigning 'input(.....)' to the variable 'operation'.\n",
    "    operation = input('Pick an operation to perform:')\n",
    "    \n",
    "    # Define the conditions for the program, then call the operation specified in the condition (using 'print') if the condition is met.\n",
    "    if operation == 'addition':\n",
    "        print(addition)\n",
    "    if operation == 'subtraction':\n",
    "        print(subtraction)\n",
    "    if operation == 'multiplication':\n",
    "        print(multiplication)\n",
    "    if operation == 'division':\n",
    "        print(division)\n",
    "        \n",
    "    # To discontinue the loop(repetitive process), specify a condition that will enable the computer opt out of the program.\n",
    "    # If condition is met (in this case if user types 'done' in the operation prompt box), the computer opts out, 'break'.\n",
    "if operation == 'done': break\n",
    "    \n",
    "    # Show a thank you message using print.    \n",
    "print('Thank yo for using our calculator.')\n"
   ]
  },
  {
   "cell_type": "code",
   "execution_count": null,
   "metadata": {},
   "outputs": [],
   "source": []
  }
 ],
 "metadata": {
  "kernelspec": {
   "display_name": "Python 3",
   "language": "python",
   "name": "python3"
  },
  "language_info": {
   "codemirror_mode": {
    "name": "ipython",
    "version": 3
   },
   "file_extension": ".py",
   "mimetype": "text/x-python",
   "name": "python",
   "nbconvert_exporter": "python",
   "pygments_lexer": "ipython3",
   "version": "3.6.4"
  }
 },
 "nbformat": 4,
 "nbformat_minor": 2
}
