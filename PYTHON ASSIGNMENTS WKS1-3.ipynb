{
 "cells": [
  {
   "cell_type": "code",
   "execution_count": 25,
   "metadata": {},
   "outputs": [
    {
     "name": "stdout",
     "output_type": "stream",
     "text": [
      "LION lion True False Lion python 2 False b'lion' 1\n"
     ]
    }
   ],
   "source": [
    "# wEEK1 - Methods\n",
    "\n",
    "animal = 'lion'\n",
    "week = ['monday','tuesday','wednesday','thursday','friday','saturday','sunday']\n",
    "\n",
    "a = animal.upper()\n",
    "b = animal.lower()\n",
    "c = animal.endswith('n')\n",
    "d = animal.startswith('t')\n",
    "e = animal.title()\n",
    "f = animal.replace('lion','python')\n",
    "g = animal.index('o')\n",
    "h = animal.isdigit()\n",
    "i = animal.encode()\n",
    "j = animal.count('n')\n",
    "\n",
    "print(a,b,c,d,e,f,g,h,i,j)"
   ]
  },
  {
   "cell_type": "code",
   "execution_count": 2,
   "metadata": {},
   "outputs": [],
   "source": [
    "# wEEK2 - 1. Write a program which asks for a number. If number is even, print 'Even', else print 'Odd'.\n",
    "         # 2. Write a program to print counting from 1-10.\n",
    "         # 3. Write a program to find those numbers which are divisible by 7 and multiples of 5, between 1500 and 2700 (both included)."
   ]
  },
  {
   "cell_type": "code",
   "execution_count": 4,
   "metadata": {},
   "outputs": [
    {
     "name": "stdout",
     "output_type": "stream",
     "text": [
      "Enter a number\n",
      ":20\n",
      "Even\n"
     ]
    }
   ],
   "source": [
    "#1a\n",
    "\n",
    "inp = int(input('Enter a number\\n:'))\n",
    "if inp%2==0:\n",
    "    print('Even')\n",
    "else:\n",
    "    print('Odd')"
   ]
  },
  {
   "cell_type": "code",
   "execution_count": 5,
   "metadata": {},
   "outputs": [
    {
     "name": "stdout",
     "output_type": "stream",
     "text": [
      "Enter a number\n",
      ":23\n",
      "Odd\n"
     ]
    }
   ],
   "source": [
    "#1b\n",
    "inp = int(input('Enter a number\\n:'))\n",
    "if inp%2==0:\n",
    "    print('Even')\n",
    "else:\n",
    "    print('Odd')"
   ]
  },
  {
   "cell_type": "code",
   "execution_count": 6,
   "metadata": {},
   "outputs": [
    {
     "name": "stdout",
     "output_type": "stream",
     "text": [
      "1\n",
      "2\n",
      "3\n",
      "4\n",
      "5\n",
      "6\n",
      "7\n",
      "8\n",
      "9\n",
      "10\n"
     ]
    }
   ],
   "source": [
    "#2 Using for loop.\n",
    "\n",
    "for num in range(1,11):\n",
    "    print(num)"
   ]
  },
  {
   "cell_type": "code",
   "execution_count": 8,
   "metadata": {},
   "outputs": [
    {
     "name": "stdout",
     "output_type": "stream",
     "text": [
      "1\n",
      "2\n",
      "3\n",
      "4\n",
      "5\n",
      "6\n",
      "7\n",
      "8\n",
      "9\n",
      "10\n"
     ]
    }
   ],
   "source": [
    "#2 alternatively, using while loop.\n",
    "\n",
    "n = 1\n",
    "while n < 11:\n",
    "    print(n)\n",
    "    n = n + 1"
   ]
  },
  {
   "cell_type": "code",
   "execution_count": 9,
   "metadata": {},
   "outputs": [
    {
     "name": "stdout",
     "output_type": "stream",
     "text": [
      "1505\n",
      "1540\n",
      "1575\n",
      "1610\n",
      "1645\n",
      "1680\n",
      "1715\n",
      "1750\n",
      "1785\n",
      "1820\n",
      "1855\n",
      "1890\n",
      "1925\n",
      "1960\n",
      "1995\n",
      "2030\n",
      "2065\n",
      "2100\n",
      "2135\n",
      "2170\n",
      "2205\n",
      "2240\n",
      "2275\n",
      "2310\n",
      "2345\n",
      "2380\n",
      "2415\n",
      "2450\n",
      "2485\n",
      "2520\n",
      "2555\n",
      "2590\n",
      "2625\n",
      "2660\n",
      "2695\n"
     ]
    }
   ],
   "source": [
    "#3\n",
    "\n",
    "for num in range(1500,2701):\n",
    "    if num%7 == 0 and num%5 == 0:\n",
    "        print(num)"
   ]
  },
  {
   "cell_type": "code",
   "execution_count": 47,
   "metadata": {},
   "outputs": [
    {
     "name": "stdout",
     "output_type": "stream",
     "text": [
      "Count = 35\n",
      "Total = 73500\n"
     ]
    }
   ],
   "source": [
    "count = 0\n",
    "total = 0\n",
    "for num in range(1500,2701):\n",
    "    if num%7 == 0 and num%5 == 0:\n",
    "        count = count + 1\n",
    "        total = total + num\n",
    "print('Count =',count)\n",
    "print('Total =',total)\n"
   ]
  },
  {
   "cell_type": "code",
   "execution_count": 50,
   "metadata": {},
   "outputs": [
    {
     "name": "stdout",
     "output_type": "stream",
     "text": [
      "1\n",
      "2\n",
      "3\n",
      "4\n",
      "5\n",
      "6\n",
      "7\n",
      "8\n",
      "9\n",
      "10\n",
      "11\n",
      "12\n",
      "13\n",
      "14\n",
      "15\n",
      "16\n",
      "17\n",
      "18\n",
      "19\n",
      "20\n",
      "21\n",
      "22\n",
      "23\n",
      "24\n",
      "25\n",
      "26\n",
      "27\n",
      "28\n",
      "29\n",
      "30\n",
      "31\n",
      "32\n",
      "33\n",
      "34\n",
      "35\n",
      "Total = 73500\n"
     ]
    }
   ],
   "source": [
    "# Alternatively,\n",
    "\n",
    "count = 0\n",
    "total = 0\n",
    "for num in range(1500,2701):\n",
    "    if num%7 == 0 and num%5 == 0:\n",
    "        count = count + 1\n",
    "        total = total + num\n",
    "        print(count)\n",
    "print('Total =',total)\n"
   ]
  },
  {
   "cell_type": "code",
   "execution_count": 12,
   "metadata": {},
   "outputs": [],
   "source": [
    "# Week3 1. Write a program to sum all the items in A.\n",
    "       #2. Write a program to perform the below functions on the given list (Months)."
   ]
  },
  {
   "cell_type": "code",
   "execution_count": 28,
   "metadata": {},
   "outputs": [
    {
     "name": "stdout",
     "output_type": "stream",
     "text": [
      "38\n"
     ]
    }
   ],
   "source": [
    "#1a\n",
    "\n",
    "A = [5,8,15,7,3]\n",
    "print(sum(A))"
   ]
  },
  {
   "cell_type": "code",
   "execution_count": 24,
   "metadata": {},
   "outputs": [
    {
     "name": "stdout",
     "output_type": "stream",
     "text": [
      "5\n",
      "13\n",
      "28\n",
      "35\n",
      "38\n"
     ]
    }
   ],
   "source": [
    "#1b Alternatively,\n",
    "\n",
    "count = 0\n",
    "total = 0\n",
    "for obj in A:\n",
    "    total = total + obj\n",
    "    print(total)"
   ]
  },
  {
   "cell_type": "code",
   "execution_count": 27,
   "metadata": {},
   "outputs": [
    {
     "name": "stdout",
     "output_type": "stream",
     "text": [
      "0\n",
      "5\n",
      "13\n",
      "28\n",
      "35\n",
      "Total = 38\n"
     ]
    }
   ],
   "source": [
    "#1b2\n",
    "\n",
    "count = 0\n",
    "total = 0\n",
    "for obj in A:\n",
    "    print(total)\n",
    "    total = total + obj\n",
    "print('Total =',total)"
   ]
  },
  {
   "cell_type": "code",
   "execution_count": 28,
   "metadata": {},
   "outputs": [
    {
     "name": "stdout",
     "output_type": "stream",
     "text": [
      "['April', 'August', 'DSN', 'February', 'January', 'July', 'June', 'March', 'May', 'November', 'October', 'September']\n"
     ]
    }
   ],
   "source": [
    "#2\n",
    "\n",
    "Months = ['January','February','DSN','March','April','May','June','July','August','September','October','November']\n",
    "\n",
    "Months_incr = Months.sort()\n",
    "print(Months)"
   ]
  },
  {
   "cell_type": "code",
   "execution_count": 31,
   "metadata": {},
   "outputs": [
    {
     "name": "stdout",
     "output_type": "stream",
     "text": [
      "['April', 'August', 'December', 'DSN', 'February', 'January', 'July', 'June', 'March', 'May', 'November', 'October', 'September']\n"
     ]
    }
   ],
   "source": [
    "# Using insert(index,'object') to add to an existing list.\n",
    "\n",
    "Months.insert(2,'December')\n",
    "print(Months)"
   ]
  },
  {
   "cell_type": "code",
   "execution_count": 32,
   "metadata": {},
   "outputs": [
    {
     "data": {
      "text/plain": [
       "['September',\n",
       " 'October',\n",
       " 'November',\n",
       " 'May',\n",
       " 'March',\n",
       " 'June',\n",
       " 'July',\n",
       " 'January',\n",
       " 'February',\n",
       " 'DSN',\n",
       " 'December',\n",
       " 'August',\n",
       " 'April']"
      ]
     },
     "execution_count": 32,
     "metadata": {},
     "output_type": "execute_result"
    }
   ],
   "source": [
    "# using reverse to reverse the elements of the list.\n",
    "\n",
    "Months.reverse()\n",
    "Months"
   ]
  },
  {
   "cell_type": "code",
   "execution_count": 33,
   "metadata": {},
   "outputs": [
    {
     "data": {
      "text/plain": [
       "['September',\n",
       " 'October',\n",
       " 'November',\n",
       " 'May',\n",
       " 'March',\n",
       " 'June',\n",
       " 'July',\n",
       " 'January',\n",
       " 'February',\n",
       " 'December',\n",
       " 'August',\n",
       " 'April']"
      ]
     },
     "execution_count": 33,
     "metadata": {},
     "output_type": "execute_result"
    }
   ],
   "source": [
    "# Removing 'DSN' from the list.\n",
    "\n",
    "Months.pop(9)\n",
    "Months"
   ]
  },
  {
   "cell_type": "code",
   "execution_count": 43,
   "metadata": {},
   "outputs": [
    {
     "data": {
      "text/plain": [
       "['January',\n",
       " 'February',\n",
       " 'March',\n",
       " 'April',\n",
       " 'May',\n",
       " 'June',\n",
       " 'July',\n",
       " 'August',\n",
       " 'September',\n",
       " 'October',\n",
       " 'November']"
      ]
     },
     "execution_count": 43,
     "metadata": {},
     "output_type": "execute_result"
    }
   ],
   "source": [
    "# Or\n",
    "\n",
    "Monthey = ['January','February','DSN','March','April','May','June','July','August','September','October','November']\n",
    "del Monthey[2]\n",
    "Monthey"
   ]
  },
  {
   "cell_type": "code",
   "execution_count": 44,
   "metadata": {},
   "outputs": [
    {
     "data": {
      "text/plain": [
       "['January',\n",
       " 'February',\n",
       " 'March',\n",
       " 'April',\n",
       " 'May',\n",
       " 'July',\n",
       " 'August',\n",
       " 'September',\n",
       " 'October',\n",
       " 'November']"
      ]
     },
     "execution_count": 44,
     "metadata": {},
     "output_type": "execute_result"
    }
   ],
   "source": [
    "# Or\n",
    "\n",
    "Monthey.remove('June')\n",
    "Monthey"
   ]
  },
  {
   "cell_type": "code",
   "execution_count": null,
   "metadata": {},
   "outputs": [],
   "source": []
  }
 ],
 "metadata": {
  "kernelspec": {
   "display_name": "Python 3",
   "language": "python",
   "name": "python3"
  },
  "language_info": {
   "codemirror_mode": {
    "name": "ipython",
    "version": 3
   },
   "file_extension": ".py",
   "mimetype": "text/x-python",
   "name": "python",
   "nbconvert_exporter": "python",
   "pygments_lexer": "ipython3",
   "version": "3.6.4"
  }
 },
 "nbformat": 4,
 "nbformat_minor": 2
}
